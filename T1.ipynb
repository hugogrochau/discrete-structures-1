{
 "cells": [
  {
   "cell_type": "markdown",
   "metadata": {},
   "source": [
    "# T1 Estruturas Discretas 2016.1\n",
    "\n",
    "## Grupo\n",
    "* Hugo Grochau - 1310486\n",
    "* Gabriel Maia\n",
    "\n",
    "## Questão 1\n",
    "\n",
    "O teorema acima resolve o problema de determinar o quociente entre $x^{k} - y^{k}$ e $x - y$. Assim deseja-se um algoritmo que dados $x$, $y$, e $k$ inteiros determine esse quociente.\n",
    "\n",
    "(a) Escreva o algoritmo resultante da prova acima.\n",
    "\n",
    "(b) Implemente este algoritmo e teste para vários valores de $x$, $y$, e $k$.\n",
    "\n",
    "Pela prova temos que:\n",
    "$$x^{k+1} - y^{k+1} = (x^{k} + y \\cdot q_{k}) \\cdot (x - y) = q_{k+1} \\cdot (x - y)$$\n",
    "\n",
    "A partir disso conseguimos a formula para conseguir o quociente $q_{k+1}$ dado o quociente $q$:\n",
    "$$q_{k+1} = x^{k} + y \\cdot q_{k}$$\n",
    "\n",
    "Logo basta começar do caso base $i = 1$, $k_{i} = 1$, $q_{i} = 1$ e ir calculando o $q_{i+1}$ com a formula acima até chegar em $i = k$"
   ]
  },
  {
   "cell_type": "code",
   "execution_count": 2,
   "metadata": {
    "collapsed": false
   },
   "outputs": [
    {
     "name": "stdout",
     "output_type": "stream",
     "text": [
      "\n",
      "############\n",
      "Testing quotient({'y': 1, 'k': 1, 'x': 1}) = 1\n",
      "Passed ✔\n",
      "Timing...\n",
      "0.0018934631592660027 ms average\n",
      "\n",
      "############\n",
      "Testing quotient({'y': 3, 'k': 3, 'x': 2}) = 19\n",
      "Passed ✔\n",
      "Timing...\n",
      "0.002644323193411616 ms average\n",
      "\n",
      "############\n",
      "Testing quotient({'y': 44, 'k': 13, 'x': 25}) = 121857362003096270461\n",
      "Passed ✔\n",
      "Timing...\n",
      "0.006969233621255605 ms average\n",
      "\n",
      "############\n",
      "Testing quotient({'y': 25934, 'k': 45, 'x': 13}) = 162358877787946359759759663874927209666506597868933734599674859328988633858019554383034005259196958461145793061384855160201065218398936939653239445105096646704035207473985676291008769797202076611\n",
      "Passed ✔\n",
      "Timing...\n",
      "0.024239486122894196 ms average\n"
     ]
    }
   ],
   "source": [
    "from datetime import datetime, timedelta\n",
    "\n",
    "def time(t, f, **args):\n",
    "    i = 0\n",
    "    end = datetime.now() + timedelta(milliseconds=t)\n",
    "    while (datetime.now() < end):\n",
    "        f(**args)\n",
    "        i += 1\n",
    "    return t/i\n",
    "\n",
    "def test(f, expected, **args):\n",
    "    print(\"\\n############\")\n",
    "    print(\"Testing {}({}) = {}\".format(f.__name__, args, expected))\n",
    "    assert(f(**args) == expected)\n",
    "    print(\"Passed ✔\")\n",
    "    print(\"Timing...\")\n",
    "    print(\"{} ms average\".format(time(5000, f, **args)))\n",
    "\n",
    "def quotient(x, y, k):\n",
    "    # CB\n",
    "    qi = 1\n",
    "    \n",
    "    # PI\n",
    "    for ki in range(2, k+1):\n",
    "        # q_{i+1} = x^{k_i} + y*q_i\n",
    "        qi = pow(x, ki-1) + y*qi\n",
    "    return qi\n",
    "    \n",
    "\n",
    "test(quotient, 1, x=1, y=1, k=1)\n",
    "test(quotient, 19, x=2, y=3, k=3)\n",
    "test(quotient, 121857362003096270461, x=25, y=44, k=13)\n",
    "test(quotient, 162358877787946359759759663874927209666506597868933734599674859328988633858019554383034005259196958461145793061384855160201065218398936939653239445105096646704035207473985676291008769797202076611, \n",
    "     x=13, y=25934, k=45)\n",
    "\n"
   ]
  },
  {
   "cell_type": "markdown",
   "metadata": {
    "collapsed": true
   },
   "source": [
    "# Resultados\n",
    "\n",
    "| Test \t| x  \t| y     \t| k  \t| time                    \t| q                                                                                                                                                                                                   \t|\n",
    "|------\t|----\t|-------\t|----\t|-------------------------\t|-----------------------------------------------------------------------------------------------------------------------------------------------------------------------------------------------------\t|\n",
    "| 1    \t| 1  \t| 1     \t| 1  \t| 0.0018934631592660027ms \t| 1                                                                                                                                                                                                   \t|\n",
    "| 2    \t| 2  \t| 3     \t| 3  \t| 0.002644323193411616ms  \t| 19                                                                                                                                                                                                  \t|\n",
    "| 3    \t| 25 \t| 44    \t| 13 \t| 0.006969233621255605ms  \t| 121857362003096270461                                                                                                                                                                               \t|\n",
    "| 4    \t| 13 \t| 25934 \t| 45 \t| 0.024239486122894196ms  \t| 162358877787946359759759663874927209666506597868933734599674859328988633858019554383034005259196958461145793061384855160201065218398936939653239445105096646704035207473985676291008769797202076611 \t|"
   ]
  },
  {
   "cell_type": "code",
   "execution_count": null,
   "metadata": {
    "collapsed": true
   },
   "outputs": [],
   "source": []
  }
 ],
 "metadata": {
  "kernelspec": {
   "display_name": "Python 3",
   "language": "python",
   "name": "python3"
  },
  "language_info": {
   "codemirror_mode": {
    "name": "ipython",
    "version": 3
   },
   "file_extension": ".py",
   "mimetype": "text/x-python",
   "name": "python",
   "nbconvert_exporter": "python",
   "pygments_lexer": "ipython3",
   "version": "3.5.1"
  }
 },
 "nbformat": 4,
 "nbformat_minor": 0
}
