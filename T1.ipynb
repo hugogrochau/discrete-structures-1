{
 "cells": [
  {
   "cell_type": "code",
   "execution_count": 62,
   "metadata": {
    "collapsed": false
   },
   "outputs": [
    {
     "name": "stdout",
     "output_type": "stream",
     "text": [
      "\n",
      "############\n",
      "Testing quotient({'x': 1, 'y': 1, 'k': 1}) = 1\n",
      "Passed ✔\n",
      "Timing...\n",
      "0.0019573570199630844 ms average\n",
      "\n",
      "############\n",
      "Testing quotient({'x': 2, 'y': 3, 'k': 3}) = 19\n",
      "Passed ✔\n",
      "Timing...\n",
      "0.0027236037853734852 ms average\n",
      "\n",
      "############\n",
      "Testing quotient({'x': 25, 'y': 44, 'k': 13}) = 121857362003096270461\n",
      "Passed ✔\n",
      "Timing...\n",
      "0.007031794964109718 ms average\n",
      "\n",
      "############\n",
      "Testing quotient({'x': 13, 'y': 25934, 'k': 45}) = 162358877787946359759759663874927209666506597868933734599674859328988633858019554383034005259196958461145793061384855160201065218398936939653239445105096646704035207473985676291008769797202076611\n",
      "Passed ✔\n",
      "Timing...\n",
      "0.023946704215098875 ms average\n"
     ]
    }
   ],
   "source": [
    "from datetime import datetime, timedelta\n",
    "\n",
    "def quotient(x, y, k):\n",
    "    qi = 1\n",
    "    for ki in range(2, k+1):\n",
    "        qi = pow(x, ki-1) + y*qi\n",
    "    return qi\n",
    "\n",
    "def time(t, f, **args):\n",
    "    i = 0\n",
    "    end = datetime.now() + timedelta(milliseconds=t)\n",
    "    while (datetime.now() < end):\n",
    "        f(**args)\n",
    "        i += 1\n",
    "    return t/i\n",
    "\n",
    "def test(f, expected, **args):\n",
    "    print(\"\\n############\")\n",
    "    print(\"Testing {}({}) = {}\".format(f.__name__, args, expected))\n",
    "    assert(f(**args) == expected)\n",
    "    print(\"Passed ✔\")\n",
    "    print(\"Timing...\")\n",
    "    print(\"{} ms average\".format(time(5000, f, **args)))\n",
    "\n",
    "test(quotient, 1, x=1, y=1, k=1)\n",
    "test(quotient, 19, x=2, y=3, k=3)\n",
    "test(quotient, 121857362003096270461, x=25, y=44, k=13)\n",
    "test(quotient, 162358877787946359759759663874927209666506597868933734599674859328988633858019554383034005259196958461145793061384855160201065218398936939653239445105096646704035207473985676291008769797202076611, \n",
    "     x=13, y=25934, k=45)\n",
    "\n"
   ]
  },
  {
   "cell_type": "code",
   "execution_count": null,
   "metadata": {
    "collapsed": true
   },
   "outputs": [],
   "source": []
  },
  {
   "cell_type": "code",
   "execution_count": null,
   "metadata": {
    "collapsed": true
   },
   "outputs": [],
   "source": []
  },
  {
   "cell_type": "code",
   "execution_count": null,
   "metadata": {
    "collapsed": true
   },
   "outputs": [],
   "source": []
  },
  {
   "cell_type": "code",
   "execution_count": null,
   "metadata": {
    "collapsed": true
   },
   "outputs": [],
   "source": []
  },
  {
   "cell_type": "code",
   "execution_count": null,
   "metadata": {
    "collapsed": true
   },
   "outputs": [],
   "source": []
  }
 ],
 "metadata": {
  "kernelspec": {
   "display_name": "Python 3",
   "language": "python",
   "name": "python3"
  },
  "language_info": {
   "codemirror_mode": {
    "name": "ipython",
    "version": 3
   },
   "file_extension": ".py",
   "mimetype": "text/x-python",
   "name": "python",
   "nbconvert_exporter": "python",
   "pygments_lexer": "ipython3",
   "version": "3.5.1"
  }
 },
 "nbformat": 4,
 "nbformat_minor": 0
}
